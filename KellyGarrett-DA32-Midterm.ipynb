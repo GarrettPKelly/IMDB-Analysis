{
 "cells": [
  {
   "cell_type": "markdown",
   "metadata": {},
   "source": [
    "Garrett Kelly\n",
    "\n",
    "DA 320\n",
    "\n",
    "Midterm\n",
    "\n",
    "The question I will be asking is as follows: \"How are gross sales of Super Hero movies effected by the runtime, rating, and budget\". In my attempts to answer this question I will be applying regression analysis to this question."
   ]
  },
  {
   "cell_type": "code",
   "execution_count": 1,
   "metadata": {},
   "outputs": [],
   "source": [
    "import pandas as pd\n",
    "import matplotlib.pyplot as plt\n",
    "import json\n",
    "import pymongo\n",
    "import pprint\n",
    "import seaborn as sns\n",
    "import statsmodels.api as sm\n",
    "import numpy as np\n",
    "from scipy import stats"
   ]
  },
  {
   "cell_type": "code",
   "execution_count": 2,
   "metadata": {},
   "outputs": [
    {
     "data": {
      "text/html": [
       "<div>\n",
       "<style scoped>\n",
       "    .dataframe tbody tr th:only-of-type {\n",
       "        vertical-align: middle;\n",
       "    }\n",
       "\n",
       "    .dataframe tbody tr th {\n",
       "        vertical-align: top;\n",
       "    }\n",
       "\n",
       "    .dataframe thead th {\n",
       "        text-align: right;\n",
       "    }\n",
       "</style>\n",
       "<table border=\"1\" class=\"dataframe\">\n",
       "  <thead>\n",
       "    <tr style=\"text-align: right;\">\n",
       "      <th></th>\n",
       "      <th>_id</th>\n",
       "      <th>ID</th>\n",
       "      <th>Title</th>\n",
       "      <th>Runtime</th>\n",
       "      <th>Rating</th>\n",
       "      <th>Votes</th>\n",
       "      <th>MPAARating</th>\n",
       "      <th>ReleaseYear</th>\n",
       "      <th>ReleaseMonth</th>\n",
       "      <th>ReleaseDay</th>\n",
       "      <th>...</th>\n",
       "      <th>Producer5</th>\n",
       "      <th>Company1</th>\n",
       "      <th>Company2</th>\n",
       "      <th>Company3</th>\n",
       "      <th>Director2</th>\n",
       "      <th>Company4</th>\n",
       "      <th>Company5</th>\n",
       "      <th>Director3</th>\n",
       "      <th>Director4</th>\n",
       "      <th>Director5</th>\n",
       "    </tr>\n",
       "  </thead>\n",
       "  <tbody>\n",
       "    <tr>\n",
       "      <th>0</th>\n",
       "      <td>62816400e51948cecb42d4c2</td>\n",
       "      <td>6320628</td>\n",
       "      <td>Spider-Man: Far from Home</td>\n",
       "      <td>129.0</td>\n",
       "      <td>7.7</td>\n",
       "      <td>200908.0</td>\n",
       "      <td>PG-13</td>\n",
       "      <td>2019</td>\n",
       "      <td>6</td>\n",
       "      <td>26</td>\n",
       "      <td>...</td>\n",
       "      <td>Louis D'Esposito</td>\n",
       "      <td>Columbia Pictures</td>\n",
       "      <td>Pascal Pictures</td>\n",
       "      <td>Marvel Studios</td>\n",
       "      <td>NaN</td>\n",
       "      <td>NaN</td>\n",
       "      <td>NaN</td>\n",
       "      <td>NaN</td>\n",
       "      <td>NaN</td>\n",
       "      <td>NaN</td>\n",
       "    </tr>\n",
       "    <tr>\n",
       "      <th>1</th>\n",
       "      <td>62816400e51948cecb42d4c3</td>\n",
       "      <td>4154796</td>\n",
       "      <td>Avengers: Endgame</td>\n",
       "      <td>181.0</td>\n",
       "      <td>8.6</td>\n",
       "      <td>569782.0</td>\n",
       "      <td>PG-13</td>\n",
       "      <td>2019</td>\n",
       "      <td>4</td>\n",
       "      <td>22</td>\n",
       "      <td>...</td>\n",
       "      <td>Jon Favreau</td>\n",
       "      <td>Marvel Studios</td>\n",
       "      <td>NaN</td>\n",
       "      <td>NaN</td>\n",
       "      <td>Joe Russo</td>\n",
       "      <td>NaN</td>\n",
       "      <td>NaN</td>\n",
       "      <td>NaN</td>\n",
       "      <td>NaN</td>\n",
       "      <td>NaN</td>\n",
       "    </tr>\n",
       "    <tr>\n",
       "      <th>2</th>\n",
       "      <td>62816400e51948cecb42d4c4</td>\n",
       "      <td>6565702</td>\n",
       "      <td>Dark Phoenix</td>\n",
       "      <td>113.0</td>\n",
       "      <td>5.8</td>\n",
       "      <td>96585.0</td>\n",
       "      <td>PG-13</td>\n",
       "      <td>2019</td>\n",
       "      <td>6</td>\n",
       "      <td>5</td>\n",
       "      <td>...</td>\n",
       "      <td>Stan Lee</td>\n",
       "      <td>Twentieth Century Fox</td>\n",
       "      <td>Bad Hat Harry Productions</td>\n",
       "      <td>Donners' Company</td>\n",
       "      <td>NaN</td>\n",
       "      <td>Kinberg Genre</td>\n",
       "      <td>Marvel Entertainment</td>\n",
       "      <td>NaN</td>\n",
       "      <td>NaN</td>\n",
       "      <td>NaN</td>\n",
       "    </tr>\n",
       "    <tr>\n",
       "      <th>3</th>\n",
       "      <td>62816400e51948cecb42d4c5</td>\n",
       "      <td>468569</td>\n",
       "      <td>The Dark Knight</td>\n",
       "      <td>152.0</td>\n",
       "      <td>9.0</td>\n",
       "      <td>2105721.0</td>\n",
       "      <td>TV-14::(LV)</td>\n",
       "      <td>2008</td>\n",
       "      <td>7</td>\n",
       "      <td>14</td>\n",
       "      <td>...</td>\n",
       "      <td>Christopher Nolan</td>\n",
       "      <td>Warner Bros.</td>\n",
       "      <td>Legendary Entertainment</td>\n",
       "      <td>Syncopy</td>\n",
       "      <td>NaN</td>\n",
       "      <td>DC Comics</td>\n",
       "      <td>NaN</td>\n",
       "      <td>NaN</td>\n",
       "      <td>NaN</td>\n",
       "      <td>NaN</td>\n",
       "    </tr>\n",
       "    <tr>\n",
       "      <th>4</th>\n",
       "      <td>62816400e51948cecb42d4c6</td>\n",
       "      <td>1477834</td>\n",
       "      <td>Aquaman</td>\n",
       "      <td>143.0</td>\n",
       "      <td>7.0</td>\n",
       "      <td>300580.0</td>\n",
       "      <td>PG-13</td>\n",
       "      <td>2018</td>\n",
       "      <td>11</td>\n",
       "      <td>26</td>\n",
       "      <td>...</td>\n",
       "      <td>Geoff Johns</td>\n",
       "      <td>DC Comics</td>\n",
       "      <td>DC Entertainment</td>\n",
       "      <td>Panoramic Pictures</td>\n",
       "      <td>NaN</td>\n",
       "      <td>Rodeo FX</td>\n",
       "      <td>The Safran Company</td>\n",
       "      <td>NaN</td>\n",
       "      <td>NaN</td>\n",
       "      <td>NaN</td>\n",
       "    </tr>\n",
       "  </tbody>\n",
       "</table>\n",
       "<p>5 rows × 39 columns</p>\n",
       "</div>"
      ],
      "text/plain": [
       "                        _id       ID                      Title  Runtime  \\\n",
       "0  62816400e51948cecb42d4c2  6320628  Spider-Man: Far from Home    129.0   \n",
       "1  62816400e51948cecb42d4c3  4154796          Avengers: Endgame    181.0   \n",
       "2  62816400e51948cecb42d4c4  6565702               Dark Phoenix    113.0   \n",
       "3  62816400e51948cecb42d4c5   468569            The Dark Knight    152.0   \n",
       "4  62816400e51948cecb42d4c6  1477834                    Aquaman    143.0   \n",
       "\n",
       "   Rating      Votes   MPAARating  ReleaseYear  ReleaseMonth  ReleaseDay  ...  \\\n",
       "0     7.7   200908.0        PG-13         2019             6          26  ...   \n",
       "1     8.6   569782.0        PG-13         2019             4          22  ...   \n",
       "2     5.8    96585.0        PG-13         2019             6           5  ...   \n",
       "3     9.0  2105721.0  TV-14::(LV)         2008             7          14  ...   \n",
       "4     7.0   300580.0        PG-13         2018            11          26  ...   \n",
       "\n",
       "           Producer5               Company1                   Company2  \\\n",
       "0   Louis D'Esposito      Columbia Pictures            Pascal Pictures   \n",
       "1        Jon Favreau         Marvel Studios                        NaN   \n",
       "2           Stan Lee  Twentieth Century Fox  Bad Hat Harry Productions   \n",
       "3  Christopher Nolan           Warner Bros.    Legendary Entertainment   \n",
       "4        Geoff Johns              DC Comics           DC Entertainment   \n",
       "\n",
       "             Company3  Director2       Company4              Company5  \\\n",
       "0      Marvel Studios        NaN            NaN                   NaN   \n",
       "1                 NaN  Joe Russo            NaN                   NaN   \n",
       "2    Donners' Company        NaN  Kinberg Genre  Marvel Entertainment   \n",
       "3             Syncopy        NaN      DC Comics                   NaN   \n",
       "4  Panoramic Pictures        NaN       Rodeo FX    The Safran Company   \n",
       "\n",
       "  Director3 Director4 Director5  \n",
       "0       NaN       NaN       NaN  \n",
       "1       NaN       NaN       NaN  \n",
       "2       NaN       NaN       NaN  \n",
       "3       NaN       NaN       NaN  \n",
       "4       NaN       NaN       NaN  \n",
       "\n",
       "[5 rows x 39 columns]"
      ]
     },
     "execution_count": 2,
     "metadata": {},
     "output_type": "execute_result"
    }
   ],
   "source": [
    "#Retrieve connection string from file\n",
    "with open(\"credentials.json\") as f:\n",
    "    data = json.load(f)\n",
    "    conn_str = data['mongodb']\n",
    "\n",
    "#Connect to database and verify that it is working\n",
    "client = pymongo.MongoClient(conn_str)\n",
    "db = client.NoSQL_Assignment\n",
    "\n",
    "#Verify the data was loaded successfully with a head call\n",
    "cursor = db['imdb'].find()\n",
    "df = pd.DataFrame(list(cursor))\n",
    "df.head()"
   ]
  },
  {
   "cell_type": "code",
   "execution_count": 3,
   "metadata": {},
   "outputs": [
    {
     "data": {
      "image/png": "[encoded data removed]",
      "text/plain": [
       "<Figure size 504x504 with 4 Axes>"
      ]
     },
     "metadata": {
      "needs_background": "light"
     },
     "output_type": "display_data"
    }
   ],
   "source": [
    "#Step 1 is to create a new dataframe with just the columns that we want\n",
    "TestData = pd.DataFrame({'Sales':df['GrossSales'],'Rating':df['Rating'], 'Budget':df['Budget'], 'Runtime':df['Runtime']})\n",
    "\n",
    "#Drop all rows that have a null value in one of the columns. it will still leave us with 146 valid data points\n",
    "TestData.dropna(axis=0, how='any', inplace=True)\n",
    "\n",
    "#First lets check how normal the data is using some histograms\n",
    "fig, axs = plt.subplots(2, 2, figsize=(7,7))\n",
    "sns.histplot(TestData, x=\"Sales\", kde=True, ax=axs[0,0])\n",
    "sns.histplot(TestData, x=\"Rating\", kde=True, ax=axs[1,0])\n",
    "sns.histplot(TestData, x=\"Budget\", kde=True, ax=axs[1,1])\n",
    "sns.histplot(TestData, x=\"Runtime\", kde=True, ax=axs[0,1])\n",
    "plt.show()\n"
   ]
  },
  {
   "cell_type": "markdown",
   "metadata": {},
   "source": [
    "Rating is fairly normal, as is Runtime but Budget and Sales are both skewed left. Time to apply some transformations to see if we can normalize the Dependent and independent variables. For this I will apply a boxcox transformation and return the Lambda value."
   ]
  },
  {
   "cell_type": "code",
   "execution_count": 4,
   "metadata": {},
   "outputs": [
    {
     "name": "stdout",
     "output_type": "stream",
     "text": [
      "Sales Lambda =  0.3101492861955896\n",
      "Budget Lambda =  0.43443758883842726\n",
      "Runtime Lambda =  0.20861724410626292\n",
      "Rating Lambda =  2.437254200546797\n"
     ]
    },
    {
     "data": {
      "image/png": "[encoded data removed]",
      "text/plain": [
       "<Figure size 504x504 with 4 Axes>"
      ]
     },
     "metadata": {
      "needs_background": "light"
     },
     "output_type": "display_data"
    }
   ],
   "source": [
    "#Statology had a fantastic tutorial that I used for this transformation https://www.statology.org/box-cox-transformation-python/\n",
    "#Transform data, and return the individual lambda value of the transformation\n",
    "TestData['Sales'], salesL = stats.boxcox(TestData['Sales'])\n",
    "TestData['Budget'], budgetL = stats.boxcox(TestData['Budget'])\n",
    "TestData['Runtime'], runtimeL = stats.boxcox(TestData['Runtime'])\n",
    "TestData['Rating'], ratingL = stats.boxcox(TestData['Rating'])\n",
    "\n",
    "#Print out the Lambda values for use later.\n",
    "print(\"Sales Lambda = \",salesL)\n",
    "print(\"Budget Lambda = \",budgetL)\n",
    "print(\"Runtime Lambda = \",runtimeL)\n",
    "print(\"Rating Lambda = \",ratingL)\n",
    "\n",
    "#Generate Histograms of each variable\n",
    "fig, axs = plt.subplots(2, 2, figsize=(7,7))\n",
    "sns.histplot(TestData, x=\"Sales\", kde=True, ax=axs[0,0])\n",
    "sns.histplot(TestData, x=\"Rating\", kde=True, ax=axs[1,0])\n",
    "sns.histplot(TestData, x=\"Budget\", kde=True, ax=axs[1,1])\n",
    "sns.histplot(TestData, x=\"Runtime\", kde=True, ax=axs[0,1])\n",
    "plt.show()"
   ]
  },
  {
   "cell_type": "markdown",
   "metadata": {},
   "source": [
    "That is better for Budget, Sales is still skewed but I don't think we are able to transform that enough."
   ]
  },
  {
   "cell_type": "code",
   "execution_count": 5,
   "metadata": {},
   "outputs": [
    {
     "name": "stdout",
     "output_type": "stream",
     "text": [
      "            Sales    Rating    Budget   Runtime\n",
      "Sales    1.000000  0.621983  0.755800  0.583715\n",
      "Rating   0.621983  1.000000  0.321776  0.507558\n",
      "Budget   0.755800  0.321776  1.000000  0.644615\n",
      "Runtime  0.583715  0.507558  0.644615  1.000000\n"
     ]
    },
    {
     "data": {
      "text/plain": [
       "<AxesSubplot:>"
      ]
     },
     "execution_count": 5,
     "metadata": {},
     "output_type": "execute_result"
    },
    {
     "data": {
      "image/png": "[encoded data removed]",
      "text/plain": [
       "<Figure size 432x288 with 2 Axes>"
      ]
     },
     "metadata": {
      "needs_background": "light"
     },
     "output_type": "display_data"
    }
   ],
   "source": [
    "#Generate the Correlation values and print them so that we can see it numerically\n",
    "print(TestData.corr())\n",
    "\n",
    "#Generate a heatmap so that we can see it visually as well.\n",
    "sns.heatmap(TestData.corr(), xticklabels=TestData.columns, yticklabels=TestData.columns)"
   ]
  },
  {
   "cell_type": "markdown",
   "metadata": {},
   "source": [
    "There does not appear to be any issues with colinearity since none of the correlation pairs have a value over 0.9."
   ]
  },
  {
   "cell_type": "code",
   "execution_count": 6,
   "metadata": {},
   "outputs": [
    {
     "data": {
      "text/html": [
       "<table class=\"simpletable\">\n",
       "<caption>OLS Regression Results</caption>\n",
       "<tr>\n",
       "  <th>Dep. Variable:</th>          <td>Sales</td>      <th>  R-squared:         </th> <td>   0.733</td>\n",
       "</tr>\n",
       "<tr>\n",
       "  <th>Model:</th>                   <td>OLS</td>       <th>  Adj. R-squared:    </th> <td>   0.728</td>\n",
       "</tr>\n",
       "<tr>\n",
       "  <th>Method:</th>             <td>Least Squares</td>  <th>  F-statistic:       </th> <td>   130.1</td>\n",
       "</tr>\n",
       "<tr>\n",
       "  <th>Date:</th>             <td>Sun, 22 May 2022</td> <th>  Prob (F-statistic):</th> <td>1.50e-40</td>\n",
       "</tr>\n",
       "<tr>\n",
       "  <th>Time:</th>                 <td>16:10:34</td>     <th>  Log-Likelihood:    </th> <td> -1012.5</td>\n",
       "</tr>\n",
       "<tr>\n",
       "  <th>No. Observations:</th>      <td>   146</td>      <th>  AIC:               </th> <td>   2033.</td>\n",
       "</tr>\n",
       "<tr>\n",
       "  <th>Df Residuals:</th>          <td>   142</td>      <th>  BIC:               </th> <td>   2045.</td>\n",
       "</tr>\n",
       "<tr>\n",
       "  <th>Df Model:</th>              <td>     3</td>      <th>                     </th>     <td> </td>   \n",
       "</tr>\n",
       "<tr>\n",
       "  <th>Covariance Type:</th>      <td>nonrobust</td>    <th>                     </th>     <td> </td>   \n",
       "</tr>\n",
       "</table>\n",
       "<table class=\"simpletable\">\n",
       "<tr>\n",
       "     <td></td>        <th>coef</th>     <th>std err</th>      <th>t</th>      <th>P>|t|</th>  <th>[0.025</th>    <th>0.975]</th>  \n",
       "</tr>\n",
       "<tr>\n",
       "  <th>const</th>   <td>  417.2370</td> <td>  422.408</td> <td>    0.988</td> <td> 0.325</td> <td> -417.784</td> <td> 1252.258</td>\n",
       "</tr>\n",
       "<tr>\n",
       "  <th>Rating</th>  <td>   12.5835</td> <td>    1.427</td> <td>    8.815</td> <td> 0.000</td> <td>    9.762</td> <td>   15.405</td>\n",
       "</tr>\n",
       "<tr>\n",
       "  <th>Runtime</th> <td>  -60.3853</td> <td>   60.092</td> <td>   -1.005</td> <td> 0.317</td> <td> -179.175</td> <td>   58.405</td>\n",
       "</tr>\n",
       "<tr>\n",
       "  <th>Budget</th>  <td>    0.1316</td> <td>    0.011</td> <td>   11.524</td> <td> 0.000</td> <td>    0.109</td> <td>    0.154</td>\n",
       "</tr>\n",
       "</table>\n",
       "<table class=\"simpletable\">\n",
       "<tr>\n",
       "  <th>Omnibus:</th>       <td>39.221</td> <th>  Durbin-Watson:     </th> <td>   1.618</td>\n",
       "</tr>\n",
       "<tr>\n",
       "  <th>Prob(Omnibus):</th> <td> 0.000</td> <th>  Jarque-Bera (JB):  </th> <td> 135.828</td>\n",
       "</tr>\n",
       "<tr>\n",
       "  <th>Skew:</th>          <td>-0.946</td> <th>  Prob(JB):          </th> <td>3.20e-30</td>\n",
       "</tr>\n",
       "<tr>\n",
       "  <th>Kurtosis:</th>      <td> 7.330</td> <th>  Cond. No.          </th> <td>1.48e+05</td>\n",
       "</tr>\n",
       "</table><br/><br/>Notes:<br/>[1] Standard Errors assume that the covariance matrix of the errors is correctly specified.<br/>[2] The condition number is large, 1.48e+05. This might indicate that there are<br/>strong multicollinearity or other numerical problems."
      ],
      "text/plain": [
       "<class 'statsmodels.iolib.summary.Summary'>\n",
       "\"\"\"\n",
       "                            OLS Regression Results                            \n",
       "==============================================================================\n",
       "Dep. Variable:                  Sales   R-squared:                       0.733\n",
       "Model:                            OLS   Adj. R-squared:                  0.728\n",
       "Method:                 Least Squares   F-statistic:                     130.1\n",
       "Date:                Sun, 22 May 2022   Prob (F-statistic):           1.50e-40\n",
       "Time:                        16:10:34   Log-Likelihood:                -1012.5\n",
       "No. Observations:                 146   AIC:                             2033.\n",
       "Df Residuals:                     142   BIC:                             2045.\n",
       "Df Model:                           3                                         \n",
       "Covariance Type:            nonrobust                                         \n",
       "==============================================================================\n",
       "                 coef    std err          t      P>|t|      [0.025      0.975]\n",
       "------------------------------------------------------------------------------\n",
       "const        417.2370    422.408      0.988      0.325    -417.784    1252.258\n",
       "Rating        12.5835      1.427      8.815      0.000       9.762      15.405\n",
       "Runtime      -60.3853     60.092     -1.005      0.317    -179.175      58.405\n",
       "Budget         0.1316      0.011     11.524      0.000       0.109       0.154\n",
       "==============================================================================\n",
       "Omnibus:                       39.221   Durbin-Watson:                   1.618\n",
       "Prob(Omnibus):                  0.000   Jarque-Bera (JB):              135.828\n",
       "Skew:                          -0.946   Prob(JB):                     3.20e-30\n",
       "Kurtosis:                       7.330   Cond. No.                     1.48e+05\n",
       "==============================================================================\n",
       "\n",
       "Notes:\n",
       "[1] Standard Errors assume that the covariance matrix of the errors is correctly specified.\n",
       "[2] The condition number is large, 1.48e+05. This might indicate that there are\n",
       "strong multicollinearity or other numerical problems.\n",
       "\"\"\""
      ]
     },
     "execution_count": 6,
     "metadata": {},
     "output_type": "execute_result"
    }
   ],
   "source": [
    "#Credit to Adi Bronshtein for the quick tutorial to get this up and running https://towardsdatascience.com/simple-and-multiple-linear-regression-in-python-c928425168f9\n",
    "#Split data into two series, one for the Dependent (Target) and one for the Independent Variables (predictors)\n",
    "target = TestData['Sales']\n",
    "predictors = TestData[['Rating', 'Runtime', 'Budget']]\n",
    "\n",
    "#Add constant and generate a linear fit model\n",
    "predictors = sm.add_constant(predictors)\n",
    "model = sm.OLS(target, predictors).fit()\n",
    "\n",
    "#Output a summary of the model so that we can evaluate it.\n",
    "model.summary()\n"
   ]
  },
  {
   "cell_type": "markdown",
   "metadata": {},
   "source": [
    "Well the P-Value for runtime is high, so that is a variable that I can eliminate. I want it to be below 0.05, but it is 0.317."
   ]
  },
  {
   "cell_type": "code",
   "execution_count": 7,
   "metadata": {},
   "outputs": [
    {
     "data": {
      "text/html": [
       "<table class=\"simpletable\">\n",
       "<caption>OLS Regression Results</caption>\n",
       "<tr>\n",
       "  <th>Dep. Variable:</th>          <td>Sales</td>      <th>  R-squared:         </th> <td>   0.731</td>\n",
       "</tr>\n",
       "<tr>\n",
       "  <th>Model:</th>                   <td>OLS</td>       <th>  Adj. R-squared:    </th> <td>   0.728</td>\n",
       "</tr>\n",
       "<tr>\n",
       "  <th>Method:</th>             <td>Least Squares</td>  <th>  F-statistic:       </th> <td>   194.6</td>\n",
       "</tr>\n",
       "<tr>\n",
       "  <th>Date:</th>             <td>Sun, 22 May 2022</td> <th>  Prob (F-statistic):</th> <td>1.57e-41</td>\n",
       "</tr>\n",
       "<tr>\n",
       "  <th>Time:</th>                 <td>16:10:35</td>     <th>  Log-Likelihood:    </th> <td> -1013.0</td>\n",
       "</tr>\n",
       "<tr>\n",
       "  <th>No. Observations:</th>      <td>   146</td>      <th>  AIC:               </th> <td>   2032.</td>\n",
       "</tr>\n",
       "<tr>\n",
       "  <th>Df Residuals:</th>          <td>   143</td>      <th>  BIC:               </th> <td>   2041.</td>\n",
       "</tr>\n",
       "<tr>\n",
       "  <th>Df Model:</th>              <td>     2</td>      <th>                     </th>     <td> </td>   \n",
       "</tr>\n",
       "<tr>\n",
       "  <th>Covariance Type:</th>      <td>nonrobust</td>    <th>                     </th>     <td> </td>   \n",
       "</tr>\n",
       "</table>\n",
       "<table class=\"simpletable\">\n",
       "<tr>\n",
       "     <td></td>       <th>coef</th>     <th>std err</th>      <th>t</th>      <th>P>|t|</th>  <th>[0.025</th>    <th>0.975]</th>  \n",
       "</tr>\n",
       "<tr>\n",
       "  <th>const</th>  <td>   -1.1440</td> <td>   71.298</td> <td>   -0.016</td> <td> 0.987</td> <td> -142.079</td> <td>  139.791</td>\n",
       "</tr>\n",
       "<tr>\n",
       "  <th>Rating</th> <td>   11.9887</td> <td>    1.299</td> <td>    9.229</td> <td> 0.000</td> <td>    9.421</td> <td>   14.557</td>\n",
       "</tr>\n",
       "<tr>\n",
       "  <th>Budget</th> <td>    0.1248</td> <td>    0.009</td> <td>   13.538</td> <td> 0.000</td> <td>    0.107</td> <td>    0.143</td>\n",
       "</tr>\n",
       "</table>\n",
       "<table class=\"simpletable\">\n",
       "<tr>\n",
       "  <th>Omnibus:</th>       <td>40.375</td> <th>  Durbin-Watson:     </th> <td>   1.587</td>\n",
       "</tr>\n",
       "<tr>\n",
       "  <th>Prob(Omnibus):</th> <td> 0.000</td> <th>  Jarque-Bera (JB):  </th> <td> 139.963</td>\n",
       "</tr>\n",
       "<tr>\n",
       "  <th>Skew:</th>          <td>-0.978</td> <th>  Prob(JB):          </th> <td>4.05e-31</td>\n",
       "</tr>\n",
       "<tr>\n",
       "  <th>Kurtosis:</th>      <td> 7.380</td> <th>  Cond. No.          </th> <td>2.47e+04</td>\n",
       "</tr>\n",
       "</table><br/><br/>Notes:<br/>[1] Standard Errors assume that the covariance matrix of the errors is correctly specified.<br/>[2] The condition number is large, 2.47e+04. This might indicate that there are<br/>strong multicollinearity or other numerical problems."
      ],
      "text/plain": [
       "<class 'statsmodels.iolib.summary.Summary'>\n",
       "\"\"\"\n",
       "                            OLS Regression Results                            \n",
       "==============================================================================\n",
       "Dep. Variable:                  Sales   R-squared:                       0.731\n",
       "Model:                            OLS   Adj. R-squared:                  0.728\n",
       "Method:                 Least Squares   F-statistic:                     194.6\n",
       "Date:                Sun, 22 May 2022   Prob (F-statistic):           1.57e-41\n",
       "Time:                        16:10:35   Log-Likelihood:                -1013.0\n",
       "No. Observations:                 146   AIC:                             2032.\n",
       "Df Residuals:                     143   BIC:                             2041.\n",
       "Df Model:                           2                                         \n",
       "Covariance Type:            nonrobust                                         \n",
       "==============================================================================\n",
       "                 coef    std err          t      P>|t|      [0.025      0.975]\n",
       "------------------------------------------------------------------------------\n",
       "const         -1.1440     71.298     -0.016      0.987    -142.079     139.791\n",
       "Rating        11.9887      1.299      9.229      0.000       9.421      14.557\n",
       "Budget         0.1248      0.009     13.538      0.000       0.107       0.143\n",
       "==============================================================================\n",
       "Omnibus:                       40.375   Durbin-Watson:                   1.587\n",
       "Prob(Omnibus):                  0.000   Jarque-Bera (JB):              139.963\n",
       "Skew:                          -0.978   Prob(JB):                     4.05e-31\n",
       "Kurtosis:                       7.380   Cond. No.                     2.47e+04\n",
       "==============================================================================\n",
       "\n",
       "Notes:\n",
       "[1] Standard Errors assume that the covariance matrix of the errors is correctly specified.\n",
       "[2] The condition number is large, 2.47e+04. This might indicate that there are\n",
       "strong multicollinearity or other numerical problems.\n",
       "\"\"\""
      ]
     },
     "execution_count": 7,
     "metadata": {},
     "output_type": "execute_result"
    }
   ],
   "source": [
    "#Set our target and predictors again, excluding Runtime as it is not Significant\n",
    "target = TestData['Sales']\n",
    "predictors = TestData[['Rating', 'Budget']]\n",
    "\n",
    "#Refit the model now that Runtime is gone.\n",
    "predictors = sm.add_constant(predictors)\n",
    "model = sm.OLS(target, predictors).fit()\n",
    "predictions = model.predict(predictors)\n",
    "\n",
    "#Output model summary again so that we can evaluate it.\n",
    "model.summary()"
   ]
  },
  {
   "cell_type": "markdown",
   "metadata": {},
   "source": [
    "Removing Runtime did not lower the R-Squared, which is good! Our model still covers 72.8% of the variability in the data. Time to see how the predicted values compare to the raw Sales data!"
   ]
  },
  {
   "cell_type": "code",
   "execution_count": 8,
   "metadata": {},
   "outputs": [
    {
     "data": {
      "text/plain": [
       "[Text(0, 0.5, 'Predicted Values'), Text(0.5, 0, 'Actual Values')]"
      ]
     },
     "execution_count": 8,
     "metadata": {},
     "output_type": "execute_result"
    },
    {
     "data": {
      "image/png": "[encoded data removed]",
      "text/plain": [
       "<Figure size 864x864 with 1 Axes>"
      ]
     },
     "metadata": {},
     "output_type": "display_data"
    }
   ],
   "source": [
    "#Generate scatter plot comparing our predicted values to the sales data\n",
    "sns.set(rc = {'figure.figsize': (12,12)}) #Make the scatter plot bigger\n",
    "plot = sns.scatterplot(x=target, y=predictions)\n",
    "plot.set(ylabel=\"Predicted Values\", xlabel=\"Actual Values\")"
   ]
  },
  {
   "cell_type": "markdown",
   "metadata": {},
   "source": [
    "Good, while there is a fair amount of variation it is still a linear relationship that appears to have a 45 degree angle. This model is a good start, but it can definitely be improved upon in the future."
   ]
  },
  {
   "cell_type": "markdown",
   "metadata": {},
   "source": [
    "So what conclusions can I gather from my investigation?\n",
    "\n",
    "First, runtime does not appear to have a significant impact on the Revenue (Sales) generated by a movie.\n",
    "\n",
    "Second, Budget has a significant impact on the Revenue (Sales) of a super hero movie. This makes sense since many viewers go to see Super hero movies for the combat scenes and the grand spectacles, so a low budget would hinder that experience. Word of mouth would then cause many prospective buyers to view another movie. \n",
    "\n",
    "Third, Ratings also have an effect on the Revenue of a Super Hero film. Early ratings would allow many of the viewers to guage whether they should view the movie or not. Lower ratings would lead many to ignore it in order to pursue entertainment they view as more worth their time.\n",
    "\n",
    "This model may not be the best possible one for the subject, there are several other variables I would like to explore the in the future. For example, how does the release month impact the sales? I could accomplish this by making each month its own variable (X12 = 1 if month is December, etc). \n",
    "\n",
    "An important note is that the data was transformed, meaning that the equation is not as simple as y= mx + b.\n",
    "\n",
    "Regression Equation:\n",
    "\n",
    "Sales^(0.31) = -1.1440 + 0.1248xBudget^(0.434) + 11.9887xRating^(2.437)"
   ]
  }
 ],
 "metadata": {
  "interpreter": {
   "hash": "a53da1e172130cf041aa60a32890a47818f249529c23c55287a71e4a5b7d3992"
  },
  "kernelspec": {
   "display_name": "Python 3.10.4 64-bit",
   "language": "python",
   "name": "python3"
  },
  "language_info": {
   "codemirror_mode": {
    "name": "ipython",
    "version": 3
   },
   "file_extension": ".py",
   "mimetype": "text/x-python",
   "name": "python",
   "nbconvert_exporter": "python",
   "pygments_lexer": "ipython3",
   "version": "3.10.4"
  },
  "orig_nbformat": 4
 },
 "nbformat": 4,
 "nbformat_minor": 2
}
